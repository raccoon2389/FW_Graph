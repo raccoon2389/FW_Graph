{
 "cells": [
  {
   "cell_type": "code",
   "execution_count": 1,
   "metadata": {},
   "outputs": [],
   "source": [
    "import pandas as pd\n",
    "from tqdm.notebook import tqdm\n",
    "import numpy as np\n",
    "import hashlib\n",
    "import matplotlib.pyplot as plt\n",
    "import datetime\n",
    "from dateutil.relativedelta import relativedelta as rdelta\n",
    "import seaborn as sns"
   ]
  },
  {
   "cell_type": "code",
   "execution_count": 2,
   "metadata": {},
   "outputs": [],
   "source": [
    "def hashing(ip,h_f):\n",
    "    return int(h_f(ip.encode()).hexdigest(), 16)"
   ]
  },
  {
   "cell_type": "code",
   "execution_count": 3,
   "metadata": {},
   "outputs": [],
   "source": [
    "def bit_jacard(b1,b2):\n",
    "    return np.logical_and(b1,b2).sum()/np.logical_or(b1,b2).sum()"
   ]
  },
  {
   "cell_type": "code",
   "execution_count": 4,
   "metadata": {},
   "outputs": [],
   "source": [
    "def bit_wise(data,n_feat,h_f):\n",
    "    bitmap = np.zeros((n_feat),bool)\n",
    "\n",
    "    index = hashing(data,h_f)%n_feat\n",
    "\n",
    "    bitmap[index]=True\n",
    "\n",
    "    return bitmap"
   ]
  },
  {
   "cell_type": "code",
   "execution_count": 5,
   "metadata": {},
   "outputs": [],
   "source": [
    "def jacard(a,b):\n",
    "    a= set(a)\n",
    "    b=set(b)\n",
    "    inter = set.intersection(a,b)\n",
    "    union = set.union(a,b)\n",
    "    return len(inter)/len(union)"
   ]
  },
  {
   "cell_type": "code",
   "execution_count": 6,
   "metadata": {},
   "outputs": [],
   "source": [
    "def min_jacard(l):\n",
    "    start  = 0\n",
    "    max_arg=[]\n",
    "    for target in range(len(l)):\n",
    "        ll=[]\n",
    "        if target==0:\n",
    "            max_arg.append((0,0))    \n",
    "        else:\n",
    "            for i in l[start:target]:\n",
    "                ll.append(jacard(l[target][3],i[3]))\n",
    "            max_arg.append((np.argmin(ll)+ 1 ,ll[np.argmin(ll)]))\n",
    "    return max_arg"
   ]
  },
  {
   "cell_type": "code",
   "execution_count": 7,
   "metadata": {},
   "outputs": [],
   "source": [
    "def hitter_bit(d,inter,outer,n_feat,h_f):\n",
    "    if inter not in d:\n",
    "        d[inter] = bit_wise(data = outer,n_feat=n_feat, h_f = h_f)\n",
    "    else:\n",
    "        d.get(inter)[hashing(outer,h_f=h_f)% n_feat]=1"
   ]
  },
  {
   "cell_type": "code",
   "execution_count": 8,
   "metadata": {},
   "outputs": [],
   "source": [
    "def hitter_original(d,inter,outer,n_feat,h_f):\n",
    "    if inter not in d:\n",
    "        d[inter] = set([outer])\n",
    "    else:\n",
    "        d.get(inter).add(outer)"
   ]
  },
  {
   "cell_type": "code",
   "execution_count": 9,
   "metadata": {},
   "outputs": [],
   "source": [
    "def df2bitset(df,n_feat,hash_func,bit=True):\n",
    "    d=dict()\n",
    "    h_f = hash_func\n",
    "    if bit:\n",
    "        hitter = hitter_bit\n",
    "    else:\n",
    "        hitter = hitter_original\n",
    "    for _,i in tqdm(df.iterrows()):\n",
    "        if i['direction'] == 'outbound':\n",
    "            inter = i['src_ip']\n",
    "            outer = i['dst_ip']\n",
    "        else:\n",
    "            inter = i['dst_ip']\n",
    "            outer = i['src_ip']\n",
    "            \n",
    "        \n",
    "        hitter(d,inter,outer,n_feat,h_f)\n",
    "    \n",
    "            \n",
    "    return d"
   ]
  },
  {
   "cell_type": "code",
   "execution_count": 10,
   "metadata": {},
   "outputs": [],
   "source": [
    "def preprocess(df):\n",
    "    df['Rdate'] = df['Rdate'].astype('str').apply(lambda x:datetime.datetime(year=int(x[:4]),month=int(x[4:6]),day=int(x[6:8]),hour=int(x[8:10]),minute=int(x[10:12]),second=int(x[12:14])).strftime('%Y-%m-%d %H:%M:%S'))\n",
    "    df['Rdate']= pd.to_datetime(df['Rdate'])\n",
    "    df1  = df[df['Rdate']<df.iloc[0,0]+rdelta(days=1)]\n",
    "    df2 = df[(df['Rdate']<df.iloc[0,0]+rdelta(days=2))&(df['Rdate']>df.iloc[0,0]+rdelta(days=1))]\n",
    "    return df1,df2"
   ]
  },
  {
   "cell_type": "code",
   "execution_count": 11,
   "metadata": {},
   "outputs": [],
   "source": [
    "def original(df1,df2,n_feat,hash_func):\n",
    "    res = dict()\n",
    "    df1_org = df2bitset(df1,n_feat,hash_func,bit=False)\n",
    "    df2_org = df2bitset(df2,n_feat,hash_func,bit=False)\n",
    "    for i in tqdm(df2_org):\n",
    "        res[i] = [jacard(df1_org.get(i,set()),df2_org[i]),len(df2_org[i])]\n",
    "    return res"
   ]
  },
  {
   "cell_type": "code",
   "execution_count": 12,
   "metadata": {},
   "outputs": [],
   "source": [
    "df= pd.read_csv('./directed_data.csv')"
   ]
  },
  {
   "cell_type": "code",
   "execution_count": 13,
   "metadata": {},
   "outputs": [
    {
     "data": {
      "application/vnd.jupyter.widget-view+json": {
       "model_id": "43c3458308ea4df1a25ccc4a70583fe3",
       "version_major": 2,
       "version_minor": 0
      },
      "text/plain": [
       "0it [00:00, ?it/s]"
      ]
     },
     "metadata": {},
     "output_type": "display_data"
    }
   ],
   "source": [
    "dfall_d = df2bitset(df,500000,hashlib.sha512)"
   ]
  },
  {
   "cell_type": "code",
   "execution_count": 14,
   "metadata": {},
   "outputs": [
    {
     "data": {
      "application/vnd.jupyter.widget-view+json": {
       "model_id": "80e08a26deb640d2a338e3807512d32e",
       "version_major": 2,
       "version_minor": 0
      },
      "text/plain": [
       "  0%|          | 0/701 [00:00<?, ?it/s]"
      ]
     },
     "metadata": {},
     "output_type": "display_data"
    }
   ],
   "source": [
    "ll=dict()\n",
    "for i in tqdm(dfall_d):\n",
    "    ll[i] = []\n",
    "    for c in dfall_d:\n",
    "        ll.get(i).append(bit_jacard(dfall_d.get(i,0),dfall_d.get(c)))"
   ]
  },
  {
   "cell_type": "code",
   "execution_count": 15,
   "metadata": {},
   "outputs": [],
   "source": [
    "alldf = pd.DataFrame(ll).T\n",
    "alldf.columns = [i for i in dfall_d]"
   ]
  },
  {
   "cell_type": "code",
   "execution_count": 17,
   "metadata": {},
   "outputs": [],
   "source": [
    "dist = 1 - alldf.to_numpy()"
   ]
  },
  {
   "cell_type": "code",
   "execution_count": 18,
   "metadata": {},
   "outputs": [
    {
     "data": {
      "text/plain": [
       "array([[0.        , 0.50384006, 0.50094537, ..., 0.99999698, 1.        ,\n",
       "        0.99999698],\n",
       "       [0.50384006, 0.        , 0.5008941 , ..., 0.99999699, 0.99999699,\n",
       "        0.99999699],\n",
       "       [0.50094537, 0.5008941 , 0.        , ..., 0.999997  , 0.999997  ,\n",
       "        0.999997  ],\n",
       "       ...,\n",
       "       [0.99999698, 0.99999699, 0.999997  , ..., 0.        , 1.        ,\n",
       "        1.        ],\n",
       "       [1.        , 0.99999699, 0.999997  , ..., 1.        , 0.        ,\n",
       "        1.        ],\n",
       "       [0.99999698, 0.99999699, 0.999997  , ..., 1.        , 1.        ,\n",
       "        0.        ]])"
      ]
     },
     "execution_count": 18,
     "metadata": {},
     "output_type": "execute_result"
    }
   ],
   "source": [
    "dist"
   ]
  },
  {
   "cell_type": "code",
   "execution_count": 19,
   "metadata": {},
   "outputs": [],
   "source": [
    "from sklearn.cluster import AgglomerativeClustering\n",
    "clustering = AgglomerativeClustering(n_clusters=None, distance_threshold=0.8, linkage='single', affinity='precomputed').fit(dist)"
   ]
  },
  {
   "cell_type": "code",
   "execution_count": 20,
   "metadata": {},
   "outputs": [
    {
     "data": {
      "text/plain": [
       "array([11, 11, 11, 11,  0, 11,  0,  0,  0,  0,  0,  0,  0,  0,  0,  0,  0,\n",
       "        0,  0,  0,  0,  0,  0,  0,  0,  0, 59,  0,  0,  0,  0,  0,  0,  0,\n",
       "        0,  0,  0,  0,  0,  0, 67,  0,  0,  0,  0,  0,  0,  0,  0,  0,  0,\n",
       "        0,  0,  0,  0,  0,  0,  0,  0,  0,  0,  0,  0,  0, 45,  0,  0,  0,\n",
       "        0,  0, 13,  6, 13,  6, 14,  0,  6, 14, 23,  6, 50,  6, 35,  6, 13,\n",
       "       69, 53,  0,  0,  0,  0,  0,  0,  0,  0,  0, 42,  0,  0,  0,  0,  0,\n",
       "        0,  0,  0,  0,  1, 13,  0, 44,  0, 28,  0,  6,  6,  6, 13,  6,  0,\n",
       "        0,  0,  0,  6,  6,  6,  0,  0,  0,  0,  0,  0,  0,  0,  0,  0,  0,\n",
       "        0,  0,  0,  0,  0,  6, 13,  6,  6, 68,  0,  0,  0,  0, 13,  0,  0,\n",
       "        0,  0,  0,  0,  0,  0,  0,  0,  0, 64,  0, 43,  6, 13, 55, 65,  0,\n",
       "       66,  0,  0,  0,  0,  0,  0,  0,  0,  0,  0,  0,  0, 47,  0,  0,  0,\n",
       "        0,  0,  0,  0,  0,  0,  0,  0,  6,  0,  0,  0,  0,  0, 13,  6,  6,\n",
       "        0,  0,  0,  0,  0,  0,  0,  0,  0,  0,  0,  0,  0,  0,  6,  6,  0,\n",
       "        0,  0,  0,  6, 13, 23, 13,  0,  0,  0,  0,  0,  0,  0,  0,  0,  0,\n",
       "        0,  0,  0,  0,  6,  6,  0,  0,  0,  0,  0,  0,  0,  6,  6,  6,  0,\n",
       "        0,  0,  0,  0,  0,  0,  0, 28,  6,  6, 13,  0,  0,  0,  0,  0,  0,\n",
       "        0,  0,  0,  0,  0,  0,  0, 13,  6,  6,  0,  0,  0,  0,  0,  0,  0,\n",
       "        0,  0,  0,  0,  0,  0,  0,  0,  0,  0,  0,  0,  0,  0,  6,  0,  0,\n",
       "        0,  0, 52,  0,  0,  0,  0,  0,  0,  0, 54, 13,  0,  0,  0,  0,  0,\n",
       "        0,  0,  0,  0,  0,  0,  0,  0,  0,  0,  6,  6,  6, 37,  0,  0,  0,\n",
       "        0,  0, 13, 56,  6, 26,  0,  0,  0,  0,  0,  0,  0,  0,  6, 13,  6,\n",
       "        0,  0,  0,  0,  0,  0,  0,  0,  0,  0,  0,  0,  0,  0,  0,  0,  0,\n",
       "       38,  7, 13,  0,  0,  0,  0,  0,  0,  3,  6,  0,  0,  0,  0,  0,  0,\n",
       "       41,  6, 13,  0,  0,  0,  0,  0,  0,  0,  0,  0, 39,  6,  6,  6,  0,\n",
       "        0,  0,  0,  0, 36,  6, 13,  0,  0,  0,  0,  0,  0,  0, 40,  0,  0,\n",
       "        0,  0,  0,  0,  0,  0,  0,  0,  0,  0,  0,  0,  0,  0,  0,  0,  0,\n",
       "        0,  0,  0,  0,  0,  0,  0, 13,  0,  0,  0,  0,  0,  0,  0,  0,  0,\n",
       "        0,  0,  0,  0,  0,  0,  0,  0,  0,  0,  0,  0,  0,  0,  0,  0,  0,\n",
       "        0,  0,  0,  0,  0,  0,  0,  0,  0,  0,  0,  0,  0,  0,  0,  0,  0,\n",
       "        0,  0,  0,  0,  0,  0,  0,  0, 13,  6,  6, 13,  0,  0,  0,  0,  0,\n",
       "        0,  0,  0,  0,  0,  0,  0, 33,  0,  0,  0,  0,  0,  0,  0,  0,  0,\n",
       "       13,  0,  0,  0,  0,  0, 21,  0,  0,  0,  0,  0,  0,  0,  0,  0,  0,\n",
       "        0,  0,  0, 49,  0,  0,  0,  0,  0, 58,  0,  0,  0,  0,  0,  0,  0,\n",
       "        0,  0,  0,  0,  0,  0,  0,  0,  0,  0,  0, 13, 17,  6,  6,  0,  0,\n",
       "       13,  0,  0,  6,  5, 20,  0,  0,  0,  0,  0, 13,  0, 13,  0,  0, 61,\n",
       "        5, 13,  7,  0,  6, 13, 13, 13,  6,  6, 13,  6, 51, 13,  6, 13, 13,\n",
       "       27, 34, 28, 18, 13, 13, 58, 13, 13, 62, 13, 13, 13, 13, 13,  6, 13,\n",
       "       13, 13, 13, 13, 13, 13, 13, 13, 46, 13, 13, 13, 57, 22, 13, 13, 13,\n",
       "       13, 13, 13, 13, 63,  7, 13, 13, 13, 13, 13, 13, 13, 13, 13, 13, 13,\n",
       "       13,  8, 13, 19, 12, 12,  2, 24, 60,  2, 48, 30,  2, 31, 10, 13, 13,\n",
       "       25, 13, 13, 16, 13, 13, 13, 13,  9, 13, 13,  3,  3,  4, 13, 13, 32,\n",
       "       15,  1, 13, 29], dtype=int64)"
      ]
     },
     "execution_count": 20,
     "metadata": {},
     "output_type": "execute_result"
    }
   ],
   "source": [
    "clustering.labels_"
   ]
  },
  {
   "cell_type": "code",
   "execution_count": 21,
   "metadata": {},
   "outputs": [],
   "source": [
    "alldf['group'] = clustering.labels_"
   ]
  },
  {
   "cell_type": "code",
   "execution_count": 22,
   "metadata": {},
   "outputs": [],
   "source": [
    "group_idx = alldf['group'].to_dict()"
   ]
  },
  {
   "cell_type": "code",
   "execution_count": 23,
   "metadata": {},
   "outputs": [],
   "source": [
    "def group_segmentation(x):\n",
    "    if x['direction']== 'outbound':\n",
    "        return group_idx[x['src_ip']]\n",
    "    else:\n",
    "        return group_idx[x['dst_ip']]"
   ]
  },
  {
   "cell_type": "code",
   "execution_count": 25,
   "metadata": {},
   "outputs": [],
   "source": [
    "df['group'] = df[['direction','src_ip','dst_ip']].apply(group_segmentation,axis=1)"
   ]
  },
  {
   "cell_type": "code",
   "execution_count": 26,
   "metadata": {},
   "outputs": [
    {
     "data": {
      "text/plain": [
       "11    2736285\n",
       "13    1776675\n",
       "59     581104\n",
       "0      534446\n",
       "6       47324\n",
       "       ...   \n",
       "16          8\n",
       "4           4\n",
       "29          4\n",
       "3           3\n",
       "25          2\n",
       "Name: group, Length: 70, dtype: int64"
      ]
     },
     "execution_count": 26,
     "metadata": {},
     "output_type": "execute_result"
    }
   ],
   "source": [
    "df['group'].value_counts()"
   ]
  },
  {
   "cell_type": "code",
   "execution_count": 27,
   "metadata": {},
   "outputs": [],
   "source": [
    "df.to_csv('./grouped.csv',index=None)"
   ]
  },
  {
   "cell_type": "code",
   "execution_count": null,
   "metadata": {},
   "outputs": [],
   "source": []
  }
 ],
 "metadata": {
  "interpreter": {
   "hash": "1f24b2f6551b049df64cb25183e90251dea2c63deab47566e118362740cff14f"
  },
  "kernelspec": {
   "display_name": "Python 3",
   "language": "python",
   "name": "python3"
  },
  "language_info": {
   "codemirror_mode": {
    "name": "ipython",
    "version": 3
   },
   "file_extension": ".py",
   "mimetype": "text/x-python",
   "name": "python",
   "nbconvert_exporter": "python",
   "pygments_lexer": "ipython3",
   "version": "3.8.8"
  }
 },
 "nbformat": 4,
 "nbformat_minor": 2
}
